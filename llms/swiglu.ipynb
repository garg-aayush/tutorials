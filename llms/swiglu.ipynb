{
 "cells": [
  {
   "cell_type": "markdown",
   "id": "e278c733",
   "metadata": {},
   "source": [
    "#### SwiGLU FFN implementation (using GPT-2 config example)\n",
    "> Taken from: https://github.com/garg-aayush/building-from-scratch/blob/main/gpt-2/play-nbs/swiglu.ipynb"
   ]
  },
  {
   "cell_type": "code",
   "execution_count": null,
   "id": "22cf861b",
   "metadata": {},
   "outputs": [],
   "source": [
    "from dataclasses import dataclass\n",
    "\n",
    "import torch.nn as nn\n",
    "import torch.nn.functional as F"
   ]
  },
  {
   "cell_type": "code",
   "execution_count": null,
   "id": "f3b00ab3",
   "metadata": {},
   "outputs": [],
   "source": [
    "@dataclass\n",
    "class GPTConfig:\n",
    "    block_size: int = 1024  # max seq. length\n",
    "    vocab_size: int = 50257  # num. of tokens: 50,000 merges + 256 byte pieces + 1 <endoftext> token\n",
    "    n_layer: int = 12  # number of layers\n",
    "    n_embd: int = 768  # embedding dimension\n",
    "    n_head: int = 12  # number of attention heads\n",
    "\n",
    "class MLP(nn.Module):\n",
    "    def __init__(self, config: GPTConfig):\n",
    "        super().__init__()\n",
    "        self.c_fc = nn.Linear(config.n_embd, 4 * config.n_embd)\n",
    "        self.gelu = nn.GELU(approximate=\"tanh\")\n",
    "        self.c_proj = nn.Linear(4 * config.n_embd, config.n_embd)\n",
    "        self.c_proj.NANOGPT_SCALE_INIT = 1\n",
    "\n",
    "    def forward(self, x):\n",
    "        x = self.c_fc(x)\n",
    "        x = self.gelu(x)\n",
    "        x = self.c_proj(x)\n",
    "        return x"
   ]
  },
  {
   "cell_type": "code",
   "execution_count": null,
   "id": "a3c962b4",
   "metadata": {},
   "outputs": [],
   "source": [
    "ffn = MLP(GPTConfig())\n",
    "# get number of parameters\n",
    "num_params = sum(p.numel() for p in ffn.parameters())\n",
    "print(f\"Number of parameters: {num_params / 1e6:.4f}M\")\n",
    "ffn\n"
   ]
  },
  {
   "cell_type": "code",
   "execution_count": null,
   "id": "61ccceff",
   "metadata": {},
   "outputs": [],
   "source": [
    "# SwiGLU: https://arxiv.org/pdf/2002.05202\n",
    "class SwiGLU(nn.Module):\n",
    "    def __init__(self, config: GPTConfig, factor: float = 8/3):\n",
    "        super().__init__()\n",
    "        # Two linear projections (for swiglu)\n",
    "        self.c_fc1 = nn.Linear(config.n_embd, int(config.n_embd * factor))\n",
    "        self.c_fc2 = nn.Linear(config.n_embd, int(config.n_embd * factor))\n",
    "        # Output projection back to input_dim\n",
    "        self.c_proj = nn.Linear(int(config.n_embd * factor), config.n_embd)\n",
    "        self.c_proj.NANOGPT_SCALE_INIT = 1\n",
    "\n",
    "    def forward(self, x):\n",
    "        # SwiGLU: ((xW1) * swish(xW2)) * W3\n",
    "        x = self.c_fc1(x)\n",
    "        gate = F.silu(self.c_fc2(x))\n",
    "        x = self.c_proj(x * gate)\n",
    "        return x\n"
   ]
  },
  {
   "cell_type": "code",
   "execution_count": null,
   "id": "19ce7be5",
   "metadata": {},
   "outputs": [],
   "source": [
    "ffn_new = SwiGLU(GPTConfig(), factor=4)\n",
    "num_params = sum(p.numel() for p in ffn_new.parameters())\n",
    "print(f\"Number of parameters: {num_params / 1e6:.4f}M\")\n",
    "ffn_new\n",
    "# Here, the \n"
   ]
  },
  {
   "cell_type": "code",
   "execution_count": null,
   "id": "ab2c2f57",
   "metadata": {},
   "outputs": [],
   "source": [
    "# keep param counts similar to the GELU FFN, follow PaLM/LLaMA practice and set: factor = 8/3\n",
    "ffn_new = SwiGLU(GPTConfig(), factor=8/3)\n",
    "num_params = sum(p.numel() for p in ffn_new.parameters())\n",
    "print(f\"Number of parameters: {num_params / 1e6:.4f}M\")\n",
    "ffn_new\n"
   ]
  },
  {
   "cell_type": "code",
   "execution_count": null,
   "id": "a2d1f9a3",
   "metadata": {},
   "outputs": [],
   "source": []
  }
 ],
 "metadata": {
  "kernelspec": {
   "display_name": "diffusers",
   "language": "python",
   "name": "python3"
  },
  "language_info": {
   "codemirror_mode": {
    "name": "ipython",
    "version": 3
   },
   "file_extension": ".py",
   "mimetype": "text/x-python",
   "name": "python",
   "nbconvert_exporter": "python",
   "pygments_lexer": "ipython3",
   "version": "3.10.13"
  }
 },
 "nbformat": 4,
 "nbformat_minor": 5
}
