{
  "nbformat": 4,
  "nbformat_minor": 0,
  "metadata": {
    "colab": {
      "provenance": [],
      "authorship_tag": "ABX9TyMGLtyDwst922TnRXi46/Q+",
      "include_colab_link": true
    },
    "kernelspec": {
      "name": "python3",
      "display_name": "Python 3"
    },
    "language_info": {
      "name": "python"
    }
  },
  "cells": [
    {
      "cell_type": "markdown",
      "metadata": {
        "id": "view-in-github",
        "colab_type": "text"
      },
      "source": [
        "<a href=\"https://colab.research.google.com/github/garg-aayush/OpenCV-DIP-Tutorials/blob/main/colab-notebooks/02_image_resizing.ipynb\" target=\"_parent\"><img src=\"https://colab.research.google.com/assets/colab-badge.svg\" alt=\"Open In Colab\"/></a>"
      ]
    },
    {
      "cell_type": "markdown",
      "source": [
        "# Introduction\n",
        "\n",
        "\n",
        "Here, we will go through the basic resizing image operations.\n",
        "\n",
        "`OpenCV` provides `cv2.resize()` function for both upsampling (enlarging) and downsampling (skrinking) an image.\n",
        "\n",
        "```python\n",
        "cv2.resize(src, dsize, fx, fy, interpolation)\n",
        "\"\"\"\n",
        "src: input image\n",
        "dsize: desired size of the output image (width, height).\n",
        "fx: Scale factor along the horizontal axis.\n",
        "fy: Scale factor along the vertical axis.\n",
        "interpolation: interpolation method to use (default: cv2.INTER_AREA)\n",
        "\"\"\"\n",
        "```"
      ],
      "metadata": {
        "id": "Y5NQ1abj2HJP"
      }
    },
    {
      "cell_type": "code",
      "source": [
        "# import the cv2 library \n",
        "import cv2\n",
        "# for displaying images in colab\n",
        "# cv2.imshow does not work properly in colab\n",
        "from google.colab.patches import cv2_imshow \n",
        "import requests\n",
        "from skimage import io"
      ],
      "metadata": {
        "id": "n2o0FbzV9xgs"
      },
      "execution_count": null,
      "outputs": []
    },
    {
      "cell_type": "code",
      "source": [
        "#######################################\n",
        "# Download the example images\n",
        "#######################################\n",
        "# URL of the image to be downloaded\n",
        "img_url = 'https://placekitten.com/400/400'\n",
        "\n",
        "# read and convert to RGB\n",
        "img = io.imread(img_url)\n",
        "img = cv2.cvtColor(img, cv2.COLOR_BGR2RGB)\n",
        "print(f'img.shape: {img.shape}')\n",
        "\n",
        "# plot\n",
        "cv2_imshow(img)"
      ],
      "metadata": {
        "id": "r-rlSjNN92v-"
      },
      "execution_count": null,
      "outputs": []
    },
    {
      "cell_type": "markdown",
      "source": [
        "# Resizing (Upsampling and downsampling) the images\n",
        "\n",
        "We can resize the input image either by specifying the **desired output size** or by **scaling factor**\n"
      ],
      "metadata": {
        "id": "SeDIwGkC2KWx"
      }
    },
    {
      "cell_type": "markdown",
      "source": [
        "\n"
      ],
      "metadata": {
        "id": "M_3tn0NO3M5v"
      }
    },
    {
      "cell_type": "code",
      "source": [
        "## Using the user-defined (width, height) output image size\n",
        "up_size = (600,600)\n",
        "resized_img = cv2.resize(img, up_size)\n",
        "\n",
        "print('Upsampled image', resized_img.shape)\n",
        "cv2_imshow(resized_img)\n",
        "\n",
        "## Downsample the image\n",
        "down_size = (200,300)\n",
        "resized_img = cv2.resize(img, down_size)\n",
        "\n",
        "print('Downsampled image', resized_img.shape)\n",
        "cv2_imshow(resized_img)"
      ],
      "metadata": {
        "id": "AINhhMgZ_G1N"
      },
      "execution_count": null,
      "outputs": []
    },
    {
      "cell_type": "markdown",
      "source": [
        "> Note, the messed up aspect ratio in the downsampled image"
      ],
      "metadata": {
        "id": "LZRfyKAI_9SE"
      }
    },
    {
      "cell_type": "code",
      "source": [
        "## Using the user-defined scaling factor output image size\n",
        "scale_x = 0.6\n",
        "scale_y = 0.6\n",
        "\n",
        "resized_img = cv2.resize(img, dsize=None, fx=scale_x, fy=scale_y)\n",
        "\n",
        "print('Scaled image', resized_img.shape)\n",
        "cv2_imshow(img)"
      ],
      "metadata": {
        "id": "EKUfcNjv_tj2"
      },
      "execution_count": null,
      "outputs": []
    },
    {
      "cell_type": "markdown",
      "source": [
        "## Different interpolation methods in `OpenCV`\n",
        "\n",
        "There are many interpolation methods available in `OpenCV` `cv2.resize` function. However, for simplicity sake, we will discuss only the five major interpolation methods\n",
        "\n",
        "**Nearest neighbour interpolation (`cv2.INTER_NEAREST`)**\n",
        ">  This does the interpolation by replicate the neighboring pixels. It retains the sharpness of the edges though the overall image may be blurred.\n",
        "\n",
        "**Area interpolation (`cv2.INTER_AREA`)**\n",
        "> This interpolate the images using the pixea area relation. It is the default interpolation option in `cv2.resize`). It works well for both downscaling and upscaling operations.\n",
        "\n",
        "**Bilinear interpolation (`cv2.INTER_LINEAR`)**\n",
        "> This does the interpolation by predicting the pixel value using the linear function based on surrounding pixel values. It is effective in handling visual distortions while zooming or enlarging an image.\n",
        "\n",
        "**Bicubic interpolation (`cv2.INTER_CUBIC`)**\n",
        "> This is the more accurate and complex interpolation that ensures the first-order gradient are continuous. It produces slightly tonal smooth gradations in the interpolated image.\n",
        "\n",
        "**Lanczos interpolation (`cv2.INTER_LANCZOS4`)**\n",
        "> This uses Fourier series and Chebyshev polynomials does interpolation over 8 x 8 pixel neighborhood technique. It is suited for images with large number of small size details.\n",
        "\n",
        "\n",
        "**THUMB RULES**: \n",
        "1. Use `INTER_LINEAR` or `INTER_CUBIC` interpolation for upscaling\n",
        "2. Use `INTER_AREA` for downscaling. \n",
        "2. Use `INTER_LANCZOS4` for images with finer-level of details. \n",
        "\n",
        "> Time complexity and accuracy: nearest < bilinear < bicubic < lanczos4\n",
        "\n"
      ],
      "metadata": {
        "id": "J-w-AJXQ3QcR"
      }
    },
    {
      "cell_type": "code",
      "source": [
        "## Using different interpolation methods\n",
        "new_size = (500, 500)\n",
        "\n",
        "print('Nearest neighbour interpolation')\n",
        "nearest_img = cv2.resize(img, new_size, interpolation=cv2.INTER_NEAREST)\n",
        "cv2_imshow(nearest_img)\n",
        "\n",
        "print('Area interpolation')\n",
        "area_img = cv2.resize(img, new_size, interpolation=cv2.INTER_AREA)\n",
        "cv2_imshow(area_img)\n",
        "\n",
        "print('Bilinear interpolation')\n",
        "linear_img = cv2.resize(img, new_size, interpolation=cv2.INTER_LINEAR)\n",
        "cv2_imshow(linear_img)\n",
        "\n",
        "print('Bicubic interpolation')\n",
        "cubic_img = cv2.resize(img, new_size, interpolation=cv2.INTER_CUBIC)\n",
        "cv2_imshow(cubic_img)\n",
        "\n",
        "print('Lanczos4 interpolation')\n",
        "lanczos_img = cv2.resize(img, new_size, interpolation=cv2.INTER_LANCZOS4)\n",
        "cv2_imshow(lanczos_img)"
      ],
      "metadata": {
        "id": "V7t_Gl6d4d1v"
      },
      "execution_count": null,
      "outputs": []
    }
  ]
}