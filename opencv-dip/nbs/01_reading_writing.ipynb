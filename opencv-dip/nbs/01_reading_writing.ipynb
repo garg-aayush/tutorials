{
  "nbformat": 4,
  "nbformat_minor": 0,
  "metadata": {
    "colab": {
      "provenance": [],
      "toc_visible": true,
      "authorship_tag": "ABX9TyO5zHU0dhsfoJa2R/Vp2dNO",
      "include_colab_link": true
    },
    "kernelspec": {
      "name": "python3",
      "display_name": "Python 3"
    },
    "language_info": {
      "name": "python"
    }
  },
  "cells": [
    {
      "cell_type": "markdown",
      "metadata": {
        "id": "view-in-github",
        "colab_type": "text"
      },
      "source": [
        "<a href=\"https://colab.research.google.com/github/garg-aayush/OpenCV-DIP-Tutorials/blob/main/01_reading_writing.ipynb\" target=\"_parent\"><img src=\"https://colab.research.google.com/assets/colab-badge.svg\" alt=\"Open In Colab\"/></a>"
      ]
    },
    {
      "cell_type": "markdown",
      "source": [
        "# Introduction\n",
        "\n",
        "In this tutorial, we will go through the basic image reading and writing operations that we can do using `OpenCV` package.\n",
        "\n",
        "We will go through the available `imread` and `imwrite` in-built functions."
      ],
      "metadata": {
        "id": "laXEBhVOXPA0"
      }
    },
    {
      "cell_type": "code",
      "execution_count": 38,
      "metadata": {
        "id": "jgwOnq-qGHjz"
      },
      "outputs": [],
      "source": [
        "# import the cv2 library \n",
        "import cv2\n",
        "# for displaying images in colab\n",
        "# cv2.imshow does not work properly in colab\n",
        "from google.colab.patches import cv2_imshow \n",
        "import requests\n"
      ]
    },
    {
      "cell_type": "code",
      "source": [
        "#######################################\n",
        "# Download the example images\n",
        "#######################################\n",
        "# 3-channel color image\n",
        "img_url1 = 'https://placekitten.com/400/400'\n",
        "# img_path\n",
        "img_path1 = \"./test_image.png\"\n",
        "# URL of the image to be downloaded\n",
        "r = requests.get(img_url1)\n",
        "with open(img_path1,'wb') as f:\n",
        "    f.write(r.content)\n",
        "\n",
        "# 4-channel color image with alpha channel\n",
        "img_url2 = 'https://i.stack.imgur.com/XvzDc.png'\n",
        "# img_path\n",
        "img_path2 = \"./test_image_4ch.png\"\n",
        "# URL of the image to be downloaded\n",
        "r = requests.get(img_url2)\n",
        "with open(img_path2,'wb') as f:\n",
        "    f.write(r.content)\n"
      ],
      "metadata": {
        "id": "W5ZiksfBIeoC"
      },
      "execution_count": 29,
      "outputs": []
    },
    {
      "cell_type": "markdown",
      "source": [
        "# Reading an image\n",
        "\n",
        "`OpenCV-Python` provides `cv2.imread()` function for reading an image. \n",
        "\n",
        "```python\n",
        "cv2.imread(filename, flag)\n",
        "\"\"\"\n",
        "filename: image path\n",
        "flag: specifes the way to load the image\n",
        "  \n",
        "FLAG OPTIONS\n",
        "  cv2.IMREAD_COLOR or 1.     : Loads the color image (RGB). Any transparency/alpha channel is neglected (DEFAULT)\n",
        "  cv2.IMREAD_GRAYSCALE or 0  : Loads the image as grayscale\n",
        "  cv2.IMREAD_UNCHANGED or -1 : Loads the image including transparency/alpha channel.\n",
        "\"\"\"\n",
        "```\n",
        "\n",
        "> `Alpha channel` is a color component that represents the degree of transparency (or opacity) in images. It can be used to adjust the image's opacity levels and make it translucent or totally see-through."
      ],
      "metadata": {
        "id": "XtA6QEt6J8C4"
      }
    },
    {
      "cell_type": "markdown",
      "source": [
        "### Reading as color (RGB) image"
      ],
      "metadata": {
        "id": "_mmPaGyISRz1"
      }
    },
    {
      "cell_type": "code",
      "source": [
        "# read the image as color image\n",
        "img = cv2.imread(img_path1)\n",
        "print(f'img.shape: {img.shape}')\n",
        "cv2_imshow(img)"
      ],
      "metadata": {
        "id": "1CNr5fy0GP4e"
      },
      "execution_count": null,
      "outputs": []
    },
    {
      "cell_type": "markdown",
      "source": [
        "### Reading as grayscale image"
      ],
      "metadata": {
        "id": "eVaVTM8QSeZx"
      }
    },
    {
      "cell_type": "code",
      "source": [
        "# read the image as grayscale image\n",
        "img = cv2.imread(img_path1, cv2.IMREAD_GRAYSCALE)\n",
        "print(f'img.shape: {img.shape}')\n",
        "cv2_imshow(img)"
      ],
      "metadata": {
        "id": "FCyk0ZuyQANq"
      },
      "execution_count": null,
      "outputs": []
    },
    {
      "cell_type": "markdown",
      "source": [
        "> Note, the read image now effectively has only `1 channel`."
      ],
      "metadata": {
        "id": "qXyXf8z1QSB1"
      }
    },
    {
      "cell_type": "markdown",
      "source": [
        "### Reading the image along with alpha/transparency channel"
      ],
      "metadata": {
        "id": "Y2vgBbyoSoYh"
      }
    },
    {
      "cell_type": "code",
      "source": [
        "# read the image as unchanged image\n",
        "img = cv2.imread(img_path1, cv2.IMREAD_UNCHANGED)\n",
        "print(f'img.shape: {img.shape}')\n",
        "cv2_imshow(img)"
      ],
      "metadata": {
        "id": "VMGgzO7vQ2Yi"
      },
      "execution_count": null,
      "outputs": []
    },
    {
      "cell_type": "markdown",
      "source": [
        "> Reading this image with `IMREAD_UNCHANGED` flag results in a color image similar to `IMREAD_COLOR` flag. This is because, the original image is a 3 channel color image. \n"
      ],
      "metadata": {
        "id": "uT9pm2SDUdz_"
      }
    },
    {
      "cell_type": "markdown",
      "source": [
        "To see the difference b/w `IMREAD_UNCHANGED` and `IMREAD_COLOR` flag, we will now read an image with 4th alpha channel.\n"
      ],
      "metadata": {
        "id": "dN2Q08sBVfdu"
      }
    },
    {
      "cell_type": "code",
      "source": [
        "# Image with 4 channels and IMREAD_COLOR flag\n",
        "img = cv2.imread(img_path2, cv2.IMREAD_COLOR)\n",
        "print(f'img.shape: {img.shape}')\n",
        "cv2_imshow(img)"
      ],
      "metadata": {
        "id": "B6mVUprZRzRR"
      },
      "execution_count": null,
      "outputs": []
    },
    {
      "cell_type": "code",
      "source": [
        "# Image with 4 channels and IMREAD_UNCHANGED flag\n",
        "img = cv2.imread(img_path2, cv2.IMREAD_UNCHANGED)\n",
        "print(f'img.shape: {img.shape}')\n",
        "cv2_imshow(img)"
      ],
      "metadata": {
        "id": "qIyLP0_NSCKy"
      },
      "execution_count": null,
      "outputs": []
    },
    {
      "cell_type": "markdown",
      "source": [
        "> Now, we can clearly see the difference b/w `IMREAD_COLOR` and `IMREAD_UNCHANGED` flag. The former ignores the alpha channel and reads the image as RGB whereas the later reads all the four channels of the image. "
      ],
      "metadata": {
        "id": "vkkXdLwEWnnC"
      }
    },
    {
      "cell_type": "markdown",
      "source": [
        "# Writing/saving an image \n",
        "\n",
        "`OpenCV-Python` provides `cv2.imwrite()` function for saving an image to the disk.\n",
        "\n",
        "```python\n",
        "cv2.imwrite(filename, img)\n",
        "\"\"\"\n",
        "filename: image save path (along with extension) \n",
        "img: image to save\n",
        "\"\"\"\n",
        "```\n",
        "\n",
        ">Note, the `filename` must include the extension (for eg., png, jpg etc). `OpenCV` uses it to specify the format of the file.\n"
      ],
      "metadata": {
        "id": "C3TmqEZLKy1q"
      }
    },
    {
      "cell_type": "code",
      "source": [
        "# Write the image to the disk\n",
        "cv2.imwrite('./out_test_image.png', img)"
      ],
      "metadata": {
        "id": "-PfI5inmKtxf"
      },
      "execution_count": null,
      "outputs": []
    }
  ]
}